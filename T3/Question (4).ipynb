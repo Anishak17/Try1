{
 "cells": [
  {
   "cell_type": "markdown",
   "id": "1f97c4a7",
   "metadata": {},
   "source": [
    "# Mini Project on EDA and Visualization"
   ]
  },
  {
   "cell_type": "markdown",
   "id": "dc779410",
   "metadata": {},
   "source": [
    "Welcome to the Use Case Challenge, In this Scenario,You are supposed to perform a EDA and Visualization on Top100 list of Cryptocurrencies dataset."
   ]
  },
  {
   "cell_type": "markdown",
   "id": "69ccbb50",
   "metadata": {},
   "source": [
    "**Instructions:**\n",
    "- Add Extra cells for coding if neccessary.\n",
    "- Finally restart kernel and run all the cells after the completion of the challenge."
   ]
  },
  {
   "cell_type": "markdown",
   "id": "ce9a7bd1",
   "metadata": {},
   "source": [
    "### Run the below cell to import the dataset file and the basic neccessary packages"
   ]
  },
  {
   "cell_type": "markdown",
   "id": "e4037a24",
   "metadata": {},
   "source": [
    "**Note:** These are the essential packages required to complete this task, please select appropriate modules from the packages listed below to complete the task depending on the specified situations."
   ]
  },
  {
   "cell_type": "code",
   "execution_count": 1,
   "id": "09440026",
   "metadata": {},
   "outputs": [],
   "source": [
    "!wget https://hr-projects-assets-prod.s3.amazonaws.com/ct7fl6bona6/b1093f2c1c57d266329c1cce18ee34ad/Data.csv"
   ]
  },
  {
   "cell_type": "code",
   "execution_count": 1,
   "id": "fab10eaa",
   "metadata": {},
   "outputs": [],
   "source": [
    "import pandas as pd\n",
    "import numpy as np\n",
    "import matplotlib.pyplot as plt\n",
    "import seaborn as sns"
   ]
  },
  {
   "cell_type": "markdown",
   "id": "677cda3b",
   "metadata": {},
   "source": [
    "### Load the Dataset"
   ]
  },
  {
   "cell_type": "markdown",
   "id": "f4efc1e1",
   "metadata": {},
   "source": [
    "**Note:**\n",
    "- Read the dataset only from the Data.csv file and save it in the variable df.\n",
    "- Don't use other data files like Data.csv.1, Data.csv.2, Data.csv.3,.....etc"
   ]
  },
  {
   "cell_type": "code",
   "execution_count": 2,
   "id": "5fdd0e41",
   "metadata": {},
   "outputs": [],
   "source": [
    "#Write your code here\n",
    "df =pd.read_csv(\"Data.csv\")"
   ]
  },
  {
   "cell_type": "code",
   "execution_count": 3,
   "id": "b4258696",
   "metadata": {},
   "outputs": [
    {
     "data": {
      "text/plain": [
       "{'Rank': [1, 2, 3],\n",
       " 'Currency_Name': ['Bitcoin', 'Ethereum', 'Bitcoin Cash'],\n",
       " 'Market_Capital': [60219183594.0, 25061275598.0, 6815417939.0],\n",
       " 'Price': [3631.72, 264.44, 410.47],\n",
       " 'Circulating_Supply': [16581450.0, 94772198.0, 16603775.0],\n",
       " 'Volume(24h)': [1226800000.0, 462576000.0, 260857000.0],\n",
       " 'Change(24h)': [-0.0084, 0.0132, -0.0322]}"
      ]
     },
     "execution_count": 3,
     "metadata": {},
     "output_type": "execute_result"
    }
   ],
   "source": [
    "df[:3].to_dict(orient='list')"
   ]
  },
  {
   "cell_type": "code",
   "execution_count": 16,
   "id": "5ee1498b",
   "metadata": {},
   "outputs": [
    {
     "data": {
      "text/plain": [
       "'Bitcoin'"
      ]
     },
     "execution_count": 16,
     "metadata": {},
     "output_type": "execute_result"
    }
   ],
   "source": [
    "df['Currency_Name'][df['Price'].idxmax()]"
   ]
  },
  {
   "cell_type": "markdown",
   "id": "25653628",
   "metadata": {},
   "source": [
    "## Question 1"
   ]
  },
  {
   "cell_type": "markdown",
   "id": "8ae6e807",
   "metadata": {},
   "source": [
    "### Extract the first 3 rows of your dataframe then convert it into dictionary with the column names as the key values and their values as list into a dictionary then assign to A1 variable."
   ]
  },
  {
   "cell_type": "markdown",
   "id": "3a3b5a9b",
   "metadata": {},
   "source": [
    "\n",
    "**Note:** The output must be in the following format\n",
    "\n",
    "        {Column_Name : List}\n",
    "        \n",
    "**Example**\n",
    "\n",
    "        { 'S.no' : [1,2,3,4],\n",
    "          'Name' : ['GridCoin','Golos','BlackCion','Groestlcoin']\n",
    "           ........}\n",
    "           "
   ]
  },
  {
   "cell_type": "code",
   "execution_count": 4,
   "id": "bde7339c",
   "metadata": {},
   "outputs": [],
   "source": [
    "#Write your code here\n",
    "A1 = df.head(3).to_dict(orient='list')"
   ]
  },
  {
   "cell_type": "code",
   "execution_count": 5,
   "id": "523d21c4-5eda-443e-bcb5-3a85211d17f8",
   "metadata": {},
   "outputs": [
    {
     "data": {
      "text/plain": [
       "{'Rank': [1, 2, 3],\n",
       " 'Currency_Name': ['Bitcoin', 'Ethereum', 'Bitcoin Cash'],\n",
       " 'Market_Capital': [60219183594.0, 25061275598.0, 6815417939.0],\n",
       " 'Price': [3631.72, 264.44, 410.47],\n",
       " 'Circulating_Supply': [16581450.0, 94772198.0, 16603775.0],\n",
       " 'Volume(24h)': [1226800000.0, 462576000.0, 260857000.0],\n",
       " 'Change(24h)': [-0.0084, 0.0132, -0.0322]}"
      ]
     },
     "execution_count": 5,
     "metadata": {},
     "output_type": "execute_result"
    }
   ],
   "source": [
    "A1"
   ]
  },
  {
   "cell_type": "markdown",
   "id": "3ee50551",
   "metadata": {},
   "source": [
    "## Question 2"
   ]
  },
  {
   "cell_type": "markdown",
   "id": "a76fed88",
   "metadata": {},
   "source": [
    "### Return the Curreny_Name which has highest value in Price column and assign to A2 varaible."
   ]
  },
  {
   "cell_type": "markdown",
   "id": "6c3a4c16",
   "metadata": {},
   "source": [
    "**Note:** The Output must be String\n"
   ]
  },
  {
   "cell_type": "code",
   "execution_count": 5,
   "id": "e6773e2b",
   "metadata": {},
   "outputs": [
    {
     "data": {
      "text/plain": [
       "'Bitcoin'"
      ]
     },
     "execution_count": 5,
     "metadata": {},
     "output_type": "execute_result"
    }
   ],
   "source": [
    "#Write your code here\n",
    "A2=df['Currency_Name'][df['Price'].idxmax()]\n",
    "A2"
   ]
  },
  {
   "cell_type": "markdown",
   "id": "0a594ee1",
   "metadata": {},
   "source": [
    "## Question 3"
   ]
  },
  {
   "cell_type": "markdown",
   "id": "8149344a",
   "metadata": {},
   "source": [
    "### Return the mean value of the Change(24h) column and assign to A3 variable."
   ]
  },
  {
   "cell_type": "markdown",
   "id": "982fa15f",
   "metadata": {},
   "source": [
    "**Note:** The Output must be Float value"
   ]
  },
  {
   "cell_type": "code",
   "execution_count": 6,
   "id": "6812a661",
   "metadata": {},
   "outputs": [],
   "source": [
    "#Write your code here\n",
    "A3=df['Change(24h)'].mean()"
   ]
  },
  {
   "cell_type": "markdown",
   "id": "ac797cf6",
   "metadata": {},
   "source": [
    "## Question 4"
   ]
  },
  {
   "cell_type": "markdown",
   "id": "e7b76d22",
   "metadata": {},
   "source": [
    "### Return the sorted (Ascending order) list of currency names which are having Market_Capital greater than '2000000000'  and Price greater than or equal to '200'. Assign to A4 variable.\n"
   ]
  },
  {
   "cell_type": "code",
   "execution_count": 33,
   "id": "c6747753",
   "metadata": {},
   "outputs": [
    {
     "data": {
      "text/plain": [
       "0      True\n",
       "1      True\n",
       "2      True\n",
       "3      True\n",
       "4      True\n",
       "      ...  \n",
       "95    False\n",
       "96    False\n",
       "97    False\n",
       "98    False\n",
       "99    False\n",
       "Name: Market_Capital, Length: 100, dtype: bool"
      ]
     },
     "execution_count": 33,
     "metadata": {},
     "output_type": "execute_result"
    }
   ],
   "source": [
    "df['Market_Capital']>2000000000"
   ]
  },
  {
   "cell_type": "code",
   "execution_count": 23,
   "id": "88c3661f",
   "metadata": {},
   "outputs": [
    {
     "data": {
      "text/plain": [
       "['Bitcoin', 'Bitcoin Cash', 'Dash', 'Ethereum']"
      ]
     },
     "execution_count": 23,
     "metadata": {},
     "output_type": "execute_result"
    }
   ],
   "source": [
    "df[(df['Market_Capital']>2000000000) & (df['Price']>=200)]['Currency_Name'].sort_values().tolist()"
   ]
  },
  {
   "cell_type": "code",
   "execution_count": 7,
   "id": "a89ce5c7",
   "metadata": {},
   "outputs": [
    {
     "name": "stdout",
     "output_type": "stream",
     "text": [
      "Help on method plot in module matplotlib.axes._axes:\n",
      "\n",
      "plot(*args, scalex=True, scaley=True, data=None, **kwargs) method of matplotlib.axes._axes.Axes instance\n",
      "    Plot y versus x as lines and/or markers.\n",
      "    \n",
      "    Call signatures::\n",
      "    \n",
      "        plot([x], y, [fmt], *, data=None, **kwargs)\n",
      "        plot([x], y, [fmt], [x2], y2, [fmt2], ..., **kwargs)\n",
      "    \n",
      "    The coordinates of the points or line nodes are given by *x*, *y*.\n",
      "    \n",
      "    The optional parameter *fmt* is a convenient way for defining basic\n",
      "    formatting like color, marker and linestyle. It's a shortcut string\n",
      "    notation described in the *Notes* section below.\n",
      "    \n",
      "    >>> plot(x, y)        # plot x and y using default line style and color\n",
      "    >>> plot(x, y, 'bo')  # plot x and y using blue circle markers\n",
      "    >>> plot(y)           # plot y using x as index array 0..N-1\n",
      "    >>> plot(y, 'r+')     # ditto, but with red plusses\n",
      "    \n",
      "    You can use `.Line2D` properties as keyword arguments for more\n",
      "    control on the appearance. Line properties and *fmt* can be mixed.\n",
      "    The following two calls yield identical results:\n",
      "    \n",
      "    >>> plot(x, y, 'go--', linewidth=2, markersize=12)\n",
      "    >>> plot(x, y, color='green', marker='o', linestyle='dashed',\n",
      "    ...      linewidth=2, markersize=12)\n",
      "    \n",
      "    When conflicting with *fmt*, keyword arguments take precedence.\n",
      "    \n",
      "    \n",
      "    **Plotting labelled data**\n",
      "    \n",
      "    There's a convenient way for plotting objects with labelled data (i.e.\n",
      "    data that can be accessed by index ``obj['y']``). Instead of giving\n",
      "    the data in *x* and *y*, you can provide the object in the *data*\n",
      "    parameter and just give the labels for *x* and *y*::\n",
      "    \n",
      "    >>> plot('xlabel', 'ylabel', data=obj)\n",
      "    \n",
      "    All indexable objects are supported. This could e.g. be a `dict`, a\n",
      "    `pandas.DataFrame` or a structured numpy array.\n",
      "    \n",
      "    \n",
      "    **Plotting multiple sets of data**\n",
      "    \n",
      "    There are various ways to plot multiple sets of data.\n",
      "    \n",
      "    - The most straight forward way is just to call `plot` multiple times.\n",
      "      Example:\n",
      "    \n",
      "      >>> plot(x1, y1, 'bo')\n",
      "      >>> plot(x2, y2, 'go')\n",
      "    \n",
      "    - If *x* and/or *y* are 2D arrays a separate data set will be drawn\n",
      "      for every column. If both *x* and *y* are 2D, they must have the\n",
      "      same shape. If only one of them is 2D with shape (N, m) the other\n",
      "      must have length N and will be used for every data set m.\n",
      "    \n",
      "      Example:\n",
      "    \n",
      "      >>> x = [1, 2, 3]\n",
      "      >>> y = np.array([[1, 2], [3, 4], [5, 6]])\n",
      "      >>> plot(x, y)\n",
      "    \n",
      "      is equivalent to:\n",
      "    \n",
      "      >>> for col in range(y.shape[1]):\n",
      "      ...     plot(x, y[:, col])\n",
      "    \n",
      "    - The third way is to specify multiple sets of *[x]*, *y*, *[fmt]*\n",
      "      groups::\n",
      "    \n",
      "      >>> plot(x1, y1, 'g^', x2, y2, 'g-')\n",
      "    \n",
      "      In this case, any additional keyword argument applies to all\n",
      "      datasets. Also, this syntax cannot be combined with the *data*\n",
      "      parameter.\n",
      "    \n",
      "    By default, each line is assigned a different style specified by a\n",
      "    'style cycle'. The *fmt* and line property parameters are only\n",
      "    necessary if you want explicit deviations from these defaults.\n",
      "    Alternatively, you can also change the style cycle using\n",
      "    :rc:`axes.prop_cycle`.\n",
      "    \n",
      "    \n",
      "    Parameters\n",
      "    ----------\n",
      "    x, y : array-like or scalar\n",
      "        The horizontal / vertical coordinates of the data points.\n",
      "        *x* values are optional and default to ``range(len(y))``.\n",
      "    \n",
      "        Commonly, these parameters are 1D arrays.\n",
      "    \n",
      "        They can also be scalars, or two-dimensional (in that case, the\n",
      "        columns represent separate data sets).\n",
      "    \n",
      "        These arguments cannot be passed as keywords.\n",
      "    \n",
      "    fmt : str, optional\n",
      "        A format string, e.g. 'ro' for red circles. See the *Notes*\n",
      "        section for a full description of the format strings.\n",
      "    \n",
      "        Format strings are just an abbreviation for quickly setting\n",
      "        basic line properties. All of these and more can also be\n",
      "        controlled by keyword arguments.\n",
      "    \n",
      "        This argument cannot be passed as keyword.\n",
      "    \n",
      "    data : indexable object, optional\n",
      "        An object with labelled data. If given, provide the label names to\n",
      "        plot in *x* and *y*.\n",
      "    \n",
      "        .. note::\n",
      "            Technically there's a slight ambiguity in calls where the\n",
      "            second label is a valid *fmt*. ``plot('n', 'o', data=obj)``\n",
      "            could be ``plt(x, y)`` or ``plt(y, fmt)``. In such cases,\n",
      "            the former interpretation is chosen, but a warning is issued.\n",
      "            You may suppress the warning by adding an empty format string\n",
      "            ``plot('n', 'o', '', data=obj)``.\n",
      "    \n",
      "    Returns\n",
      "    -------\n",
      "    list of `.Line2D`\n",
      "        A list of lines representing the plotted data.\n",
      "    \n",
      "    Other Parameters\n",
      "    ----------------\n",
      "    scalex, scaley : bool, default: True\n",
      "        These parameters determine if the view limits are adapted to the\n",
      "        data limits. The values are passed on to\n",
      "        `~.axes.Axes.autoscale_view`.\n",
      "    \n",
      "    **kwargs : `.Line2D` properties, optional\n",
      "        *kwargs* are used to specify properties like a line label (for\n",
      "        auto legends), linewidth, antialiasing, marker face color.\n",
      "        Example::\n",
      "    \n",
      "        >>> plot([1, 2, 3], [1, 2, 3], 'go-', label='line 1', linewidth=2)\n",
      "        >>> plot([1, 2, 3], [1, 4, 9], 'rs', label='line 2')\n",
      "    \n",
      "        If you specify multiple lines with one plot call, the kwargs apply\n",
      "        to all those lines. In case the label object is iterable, each\n",
      "        element is used as labels for each set of data.\n",
      "    \n",
      "        Here is a list of available `.Line2D` properties:\n",
      "    \n",
      "        Properties:\n",
      "        agg_filter: a filter function, which takes a (m, n, 3) float array and a dpi value, and returns a (m, n, 3) array and two offsets from the bottom left corner of the image\n",
      "        alpha: scalar or None\n",
      "        animated: bool\n",
      "        antialiased or aa: bool\n",
      "        clip_box: `.Bbox`\n",
      "        clip_on: bool\n",
      "        clip_path: Patch or (Path, Transform) or None\n",
      "        color or c: color\n",
      "        dash_capstyle: `.CapStyle` or {'butt', 'projecting', 'round'}\n",
      "        dash_joinstyle: `.JoinStyle` or {'miter', 'round', 'bevel'}\n",
      "        dashes: sequence of floats (on/off ink in points) or (None, None)\n",
      "        data: (2, N) array or two 1D arrays\n",
      "        drawstyle or ds: {'default', 'steps', 'steps-pre', 'steps-mid', 'steps-post'}, default: 'default'\n",
      "        figure: `.Figure`\n",
      "        fillstyle: {'full', 'left', 'right', 'bottom', 'top', 'none'}\n",
      "        gapcolor: color or None\n",
      "        gid: str\n",
      "        in_layout: bool\n",
      "        label: object\n",
      "        linestyle or ls: {'-', '--', '-.', ':', '', (offset, on-off-seq), ...}\n",
      "        linewidth or lw: float\n",
      "        marker: marker style string, `~.path.Path` or `~.markers.MarkerStyle`\n",
      "        markeredgecolor or mec: color\n",
      "        markeredgewidth or mew: float\n",
      "        markerfacecolor or mfc: color\n",
      "        markerfacecoloralt or mfcalt: color\n",
      "        markersize or ms: float\n",
      "        markevery: None or int or (int, int) or slice or list[int] or float or (float, float) or list[bool]\n",
      "        mouseover: bool\n",
      "        path_effects: `.AbstractPathEffect`\n",
      "        picker: float or callable[[Artist, Event], tuple[bool, dict]]\n",
      "        pickradius: unknown\n",
      "        rasterized: bool\n",
      "        sketch_params: (scale: float, length: float, randomness: float)\n",
      "        snap: bool or None\n",
      "        solid_capstyle: `.CapStyle` or {'butt', 'projecting', 'round'}\n",
      "        solid_joinstyle: `.JoinStyle` or {'miter', 'round', 'bevel'}\n",
      "        transform: unknown\n",
      "        url: str\n",
      "        visible: bool\n",
      "        xdata: 1D array\n",
      "        ydata: 1D array\n",
      "        zorder: float\n",
      "    \n",
      "    See Also\n",
      "    --------\n",
      "    scatter : XY scatter plot with markers of varying size and/or color (\n",
      "        sometimes also called bubble chart).\n",
      "    \n",
      "    Notes\n",
      "    -----\n",
      "    **Format Strings**\n",
      "    \n",
      "    A format string consists of a part for color, marker and line::\n",
      "    \n",
      "        fmt = '[marker][line][color]'\n",
      "    \n",
      "    Each of them is optional. If not provided, the value from the style\n",
      "    cycle is used. Exception: If ``line`` is given, but no ``marker``,\n",
      "    the data will be a line without markers.\n",
      "    \n",
      "    Other combinations such as ``[color][marker][line]`` are also\n",
      "    supported, but note that their parsing may be ambiguous.\n",
      "    \n",
      "    **Markers**\n",
      "    \n",
      "    =============   ===============================\n",
      "    character       description\n",
      "    =============   ===============================\n",
      "    ``'.'``         point marker\n",
      "    ``','``         pixel marker\n",
      "    ``'o'``         circle marker\n",
      "    ``'v'``         triangle_down marker\n",
      "    ``'^'``         triangle_up marker\n",
      "    ``'<'``         triangle_left marker\n",
      "    ``'>'``         triangle_right marker\n",
      "    ``'1'``         tri_down marker\n",
      "    ``'2'``         tri_up marker\n",
      "    ``'3'``         tri_left marker\n",
      "    ``'4'``         tri_right marker\n",
      "    ``'8'``         octagon marker\n",
      "    ``'s'``         square marker\n",
      "    ``'p'``         pentagon marker\n",
      "    ``'P'``         plus (filled) marker\n",
      "    ``'*'``         star marker\n",
      "    ``'h'``         hexagon1 marker\n",
      "    ``'H'``         hexagon2 marker\n",
      "    ``'+'``         plus marker\n",
      "    ``'x'``         x marker\n",
      "    ``'X'``         x (filled) marker\n",
      "    ``'D'``         diamond marker\n",
      "    ``'d'``         thin_diamond marker\n",
      "    ``'|'``         vline marker\n",
      "    ``'_'``         hline marker\n",
      "    =============   ===============================\n",
      "    \n",
      "    **Line Styles**\n",
      "    \n",
      "    =============    ===============================\n",
      "    character        description\n",
      "    =============    ===============================\n",
      "    ``'-'``          solid line style\n",
      "    ``'--'``         dashed line style\n",
      "    ``'-.'``         dash-dot line style\n",
      "    ``':'``          dotted line style\n",
      "    =============    ===============================\n",
      "    \n",
      "    Example format strings::\n",
      "    \n",
      "        'b'    # blue markers with default shape\n",
      "        'or'   # red circles\n",
      "        '-g'   # green solid line\n",
      "        '--'   # dashed line with default color\n",
      "        '^k:'  # black triangle_up markers connected by a dotted line\n",
      "    \n",
      "    **Colors**\n",
      "    \n",
      "    The supported color abbreviations are the single letter codes\n",
      "    \n",
      "    =============    ===============================\n",
      "    character        color\n",
      "    =============    ===============================\n",
      "    ``'b'``          blue\n",
      "    ``'g'``          green\n",
      "    ``'r'``          red\n",
      "    ``'c'``          cyan\n",
      "    ``'m'``          magenta\n",
      "    ``'y'``          yellow\n",
      "    ``'k'``          black\n",
      "    ``'w'``          white\n",
      "    =============    ===============================\n",
      "    \n",
      "    and the ``'CN'`` colors that index into the default property cycle.\n",
      "    \n",
      "    If the color is the only part of the format string, you can\n",
      "    additionally use any  `matplotlib.colors` spec, e.g. full names\n",
      "    (``'green'``) or hex strings (``'#008000'``).\n",
      "\n"
     ]
    },
    {
     "data": {
      "image/png": "[encoded data removed]",
      "text/plain": [
       "<Figure size 640x480 with 1 Axes>"
      ]
     },
     "metadata": {},
     "output_type": "display_data"
    }
   ],
   "source": [
    "fig, ax = plt.subplots()\n",
    "help(ax.plot)"
   ]
  },
  {
   "cell_type": "markdown",
   "id": "47c0fec6",
   "metadata": {},
   "source": [
    "**Note:** The Output must be list"
   ]
  },
  {
   "cell_type": "code",
   "execution_count": 8,
   "id": "4f0124c9",
   "metadata": {},
   "outputs": [],
   "source": [
    "#Write your code here\n",
    "A4=df['Currency_Name'][(df['Market_Capital'] > 2000000000) & (df['Price'] >= 200)].sort_values().tolist()"
   ]
  },
  {
   "cell_type": "markdown",
   "id": "485f4edf",
   "metadata": {},
   "source": [
    "## Question 5"
   ]
  },
  {
   "cell_type": "markdown",
   "id": "7c7b0ea6",
   "metadata": {},
   "source": [
    "### Return the lowest value in Volume(24h) column and Assign to A5 variable."
   ]
  },
  {
   "cell_type": "markdown",
   "id": "b813db1e",
   "metadata": {},
   "source": [
    "**Note:** Output must be Float value."
   ]
  },
  {
   "cell_type": "code",
   "execution_count": 9,
   "id": "14b5e715",
   "metadata": {},
   "outputs": [],
   "source": [
    "#Write your code here\n",
    "A5=df['Volume(24h)'].min()"
   ]
  },
  {
   "cell_type": "code",
   "execution_count": 26,
   "id": "c0b1821c",
   "metadata": {},
   "outputs": [
    {
     "name": "stdout",
     "output_type": "stream",
     "text": [
      "Help on function scatter in module matplotlib.pyplot:\n",
      "\n",
      "scatter(x, y, s=None, c=None, marker=None, cmap=None, norm=None, vmin=None, vmax=None, alpha=None, linewidths=None, *, edgecolors=None, plotnonfinite=False, data=None, **kwargs)\n",
      "    A scatter plot of *y* vs. *x* with varying marker size and/or color.\n",
      "    \n",
      "    Parameters\n",
      "    ----------\n",
      "    x, y : float or array-like, shape (n, )\n",
      "        The data positions.\n",
      "    \n",
      "    s : float or array-like, shape (n, ), optional\n",
      "        The marker size in points**2 (typographic points are 1/72 in.).\n",
      "        Default is ``rcParams['lines.markersize'] ** 2``.\n",
      "    \n",
      "    c : array-like or list of colors or color, optional\n",
      "        The marker colors. Possible values:\n",
      "    \n",
      "        - A scalar or sequence of n numbers to be mapped to colors using\n",
      "          *cmap* and *norm*.\n",
      "        - A 2D array in which the rows are RGB or RGBA.\n",
      "        - A sequence of colors of length n.\n",
      "        - A single color format string.\n",
      "    \n",
      "        Note that *c* should not be a single numeric RGB or RGBA sequence\n",
      "        because that is indistinguishable from an array of values to be\n",
      "        colormapped. If you want to specify the same RGB or RGBA value for\n",
      "        all points, use a 2D array with a single row.  Otherwise,\n",
      "        value-matching will have precedence in case of a size matching with\n",
      "        *x* and *y*.\n",
      "    \n",
      "        If you wish to specify a single color for all points\n",
      "        prefer the *color* keyword argument.\n",
      "    \n",
      "        Defaults to `None`. In that case the marker color is determined\n",
      "        by the value of *color*, *facecolor* or *facecolors*. In case\n",
      "        those are not specified or `None`, the marker color is determined\n",
      "        by the next color of the ``Axes``' current \"shape and fill\" color\n",
      "        cycle. This cycle defaults to :rc:`axes.prop_cycle`.\n",
      "    \n",
      "    marker : `~.markers.MarkerStyle`, default: :rc:`scatter.marker`\n",
      "        The marker style. *marker* can be either an instance of the class\n",
      "        or the text shorthand for a particular marker.\n",
      "        See :mod:`matplotlib.markers` for more information about marker\n",
      "        styles.\n",
      "    \n",
      "    cmap : str or `~matplotlib.colors.Colormap`, default: :rc:`image.cmap`\n",
      "        The Colormap instance or registered colormap name used to map scalar data\n",
      "        to colors.\n",
      "    \n",
      "        This parameter is ignored if *c* is RGB(A).\n",
      "    \n",
      "    norm : str or `~matplotlib.colors.Normalize`, optional\n",
      "        The normalization method used to scale scalar data to the [0, 1] range\n",
      "        before mapping to colors using *cmap*. By default, a linear scaling is\n",
      "        used, mapping the lowest value to 0 and the highest to 1.\n",
      "    \n",
      "        If given, this can be one of the following:\n",
      "    \n",
      "        - An instance of `.Normalize` or one of its subclasses\n",
      "          (see :doc:`/tutorials/colors/colormapnorms`).\n",
      "        - A scale name, i.e. one of \"linear\", \"log\", \"symlog\", \"logit\", etc.  For a\n",
      "          list of available scales, call `matplotlib.scale.get_scale_names()`.\n",
      "          In that case, a suitable `.Normalize` subclass is dynamically generated\n",
      "          and instantiated.\n",
      "    \n",
      "        This parameter is ignored if *c* is RGB(A).\n",
      "    \n",
      "    vmin, vmax : float, optional\n",
      "        When using scalar data and no explicit *norm*, *vmin* and *vmax* define\n",
      "        the data range that the colormap covers. By default, the colormap covers\n",
      "        the complete value range of the supplied data. It is an error to use\n",
      "        *vmin*/*vmax* when a *norm* instance is given (but using a `str` *norm*\n",
      "        name together with *vmin*/*vmax* is acceptable).\n",
      "    \n",
      "        This parameter is ignored if *c* is RGB(A).\n",
      "    \n",
      "    alpha : float, default: None\n",
      "        The alpha blending value, between 0 (transparent) and 1 (opaque).\n",
      "    \n",
      "    linewidths : float or array-like, default: :rc:`lines.linewidth`\n",
      "        The linewidth of the marker edges. Note: The default *edgecolors*\n",
      "        is 'face'. You may want to change this as well.\n",
      "    \n",
      "    edgecolors : {'face', 'none', *None*} or color or sequence of color, default: :rc:`scatter.edgecolors`\n",
      "        The edge color of the marker. Possible values:\n",
      "    \n",
      "        - 'face': The edge color will always be the same as the face color.\n",
      "        - 'none': No patch boundary will be drawn.\n",
      "        - A color or sequence of colors.\n",
      "    \n",
      "        For non-filled markers, *edgecolors* is ignored. Instead, the color\n",
      "        is determined like with 'face', i.e. from *c*, *colors*, or\n",
      "        *facecolors*.\n",
      "    \n",
      "    plotnonfinite : bool, default: False\n",
      "        Whether to plot points with nonfinite *c* (i.e. ``inf``, ``-inf``\n",
      "        or ``nan``). If ``True`` the points are drawn with the *bad*\n",
      "        colormap color (see `.Colormap.set_bad`).\n",
      "    \n",
      "    Returns\n",
      "    -------\n",
      "    `~matplotlib.collections.PathCollection`\n",
      "    \n",
      "    Other Parameters\n",
      "    ----------------\n",
      "    data : indexable object, optional\n",
      "        If given, the following parameters also accept a string ``s``, which is\n",
      "        interpreted as ``data[s]`` (unless this raises an exception):\n",
      "    \n",
      "        *x*, *y*, *s*, *linewidths*, *edgecolors*, *c*, *facecolor*, *facecolors*, *color*\n",
      "    **kwargs : `~matplotlib.collections.Collection` properties\n",
      "    \n",
      "    See Also\n",
      "    --------\n",
      "    plot : To plot scatter plots when markers are identical in size and\n",
      "        color.\n",
      "    \n",
      "    Notes\n",
      "    -----\n",
      "    * The `.plot` function will be faster for scatterplots where markers\n",
      "      don't vary in size or color.\n",
      "    \n",
      "    * Any or all of *x*, *y*, *s*, and *c* may be masked arrays, in which\n",
      "      case all masks will be combined and only unmasked points will be\n",
      "      plotted.\n",
      "    \n",
      "    * Fundamentally, scatter works with 1D arrays; *x*, *y*, *s*, and *c*\n",
      "      may be input as N-D arrays, but within scatter they will be\n",
      "      flattened. The exception is *c*, which will be flattened only if its\n",
      "      size matches the size of *x* and *y*.\n",
      "\n"
     ]
    }
   ],
   "source": [
    "help(plt.scatter)"
   ]
  },
  {
   "cell_type": "markdown",
   "id": "32bd1e52",
   "metadata": {},
   "source": [
    "## Question 6"
   ]
  },
  {
   "cell_type": "markdown",
   "id": "690d51e0",
   "metadata": {},
   "source": [
    "### Draw the Heatmap with correlation between Rank, Marcket Captial, Price, Circulating_Supply, Volume(24h) and Change(24h). Assign to A6 variable."
   ]
  },
  {
   "cell_type": "markdown",
   "id": "8df164f1",
   "metadata": {},
   "source": [
    "**Instructions:**\n",
    "- Use seaborn\n",
    "- Create a figure with figsize(15,8)\n",
    "- xlabel,ylabel,title must be present\n",
    "- Plot the heatmap"
   ]
  },
  {
   "cell_type": "markdown",
   "id": "5b644a11",
   "metadata": {},
   "source": [
    "**Sample Plot image:**\n",
    "<img src='Sample_images/pic6.png' style='width:400px;height:300px'>"
   ]
  },
  {
   "cell_type": "code",
   "execution_count": 10,
   "id": "59527755",
   "metadata": {},
   "outputs": [
    {
     "data": {
      "image/png": "[encoded data removed]",
      "text/plain": [
       "<Figure size 800x800 with 2 Axes>"
      ]
     },
     "metadata": {},
     "output_type": "display_data"
    }
   ],
   "source": [
    "#Write your code here\n",
    "fig, ax = plt.subplots(figsize=(8,8))\n",
    "corr = df[['Rank', 'Market_Capital', 'Price', 'Circulating_Supply', 'Volume(24h)', 'Change(24h)']].corr()\n",
    "sns.heatmap(corr, annot=True, ax=ax)\n",
    "ax.set_xlabel('X-axis')\n",
    "ax.set_ylabel('Y-axis')\n",
    "ax.set_title('Heatmap Correlation')\n",
    "# Plot the Heatmap with axes (ax) and assign the returned object(path collection) to q6\n",
    "q6 = plt.gcf()\n",
    "\n",
    "#Assigning the object to A6 for validation\n",
    "A6=q6"
   ]
  },
  {
   "cell_type": "markdown",
   "id": "1e63fc40",
   "metadata": {},
   "source": [
    "## Question 7"
   ]
  },
  {
   "cell_type": "markdown",
   "id": "3dfa70eb",
   "metadata": {},
   "source": [
    "### Draw the barplot containing Top 10 currency names with highest Market Capital And Assign to A7 variable.\n",
    "   "
   ]
  },
  {
   "cell_type": "markdown",
   "id": "a1f05a3a",
   "metadata": {},
   "source": [
    "**Instructions:**\n",
    "- Use Seaborn\n",
    "- Order the cryptocurrencies is must be in Descending order (i.e,bar corresponding to cryptocurrency with highest market value must be on top of bar plot).\n",
    "- xlabel,ylabel,title must be present\n",
    "- Plot the barplot"
   ]
  },
  {
   "cell_type": "markdown",
   "id": "43ae8c01",
   "metadata": {},
   "source": [
    "**Sample Plot image:**\n",
    "<img src='Sample_images/pic7.png' style='width:400px;height:300px'>"
   ]
  },
  {
   "cell_type": "code",
   "execution_count": 12,
   "id": "2390aa6e",
   "metadata": {},
   "outputs": [
    {
     "data": {
      "image/png": "[encoded data removed]",
      "text/plain": [
       "<Figure size 800x800 with 1 Axes>"
      ]
     },
     "metadata": {},
     "output_type": "display_data"
    }
   ],
   "source": [
    "#Write your code here\n",
    "fig7, ax7 = plt.subplots(figsize=(8,8))\n",
    "top_10_market_cap = df.nlargest(10, 'Market_Capital')\n",
    "sns.barplot(x='Market_Capital', y='Currency_Name', data=top_10_market_cap, ax=ax7, orient='h')\n",
    "ax7.set_xlabel('Market_Capital')\n",
    "ax7.set_ylabel('Currency_Name')\n",
    "ax7.set_title('Bitcoin containing Top 10 Currencies names with highest market capital')\n",
    "\n",
    "# Plot the countplot with axes (ax7) and assign the returned object(path collection) to q7\n",
    "\n",
    "q7 = plt.gcf()\n",
    "\n",
    "#Assigning the object,axes to A7 for validation\n",
    "A7=[fig7,ax7]"
   ]
  },
  {
   "cell_type": "markdown",
   "id": "d1dd2a48",
   "metadata": {},
   "source": [
    "## Question 8"
   ]
  },
  {
   "cell_type": "markdown",
   "id": "088b5d19",
   "metadata": {},
   "source": [
    "### Draw the violinplot that represents the graph of Change(24h). And Assign the variable to A8."
   ]
  },
  {
   "cell_type": "markdown",
   "id": "23174baa",
   "metadata": {},
   "source": [
    "**Instructions:**\n",
    "- Use seaborn\n",
    "- Change(24h) should be in the y-axis\n",
    "- xlabel,ylabel,title must be present\n",
    "- Plot the violinplot\n"
   ]
  },
  {
   "cell_type": "markdown",
   "id": "b9592d0f",
   "metadata": {},
   "source": [
    "**Sample Plot image:**\n",
    "<img src='Sample_images/pic8.png' style='width:400px;height:300px'>"
   ]
  },
  {
   "cell_type": "code",
   "execution_count": 13,
   "id": "9aab5d51",
   "metadata": {},
   "outputs": [
    {
     "data": {
      "image/png": "[encoded data removed]",
      "text/plain": [
       "<Figure size 800x800 with 1 Axes>"
      ]
     },
     "metadata": {},
     "output_type": "display_data"
    }
   ],
   "source": [
    "#Write your code here\n",
    "fig8, ax8 = plt.subplots(figsize=(8,8))\n",
    "# Plot the violinplot with axes (ax8) and assign the returned object(path collection) to q8\n",
    "sns.violinplot(y='Change(24h)', data=df, ax=ax8)\n",
    "ax8.set_xlabel('X-axis')\n",
    "ax8.set_ylabel('Y-axis')\n",
    "ax8.set_title('violin plot for Change(24h)')\n",
    "q8 = plt.gcf()\n",
    "\n",
    "#Assigning the object to A8 for validation\n",
    "A8=q8\n"
   ]
  },
  {
   "cell_type": "markdown",
   "id": "8118bb29",
   "metadata": {},
   "source": [
    "## Question 9"
   ]
  },
  {
   "cell_type": "markdown",
   "id": "712a3a70",
   "metadata": {},
   "source": [
    "### Draw a scatterplot that represents the relation between Price and Market Capital. And Assign to A9 variable."
   ]
  },
  {
   "cell_type": "markdown",
   "id": "59326d7a",
   "metadata": {},
   "source": [
    "**Instructions:**\n",
    "- use seaborn\n",
    "- Consider data as 50 Cryptocurrencies, with higest Market Value\n",
    "- xlabel,ylabel,title must be present\n",
    "- Plot the Scatterplot"
   ]
  },
  {
   "cell_type": "markdown",
   "id": "41733838",
   "metadata": {},
   "source": [
    "**Sample Plot image:**\n",
    "<img src='Sample_images/pic9.png' style='width:400px;height:300px'>"
   ]
  },
  {
   "cell_type": "code",
   "execution_count": 14,
   "id": "3ec38a9e",
   "metadata": {},
   "outputs": [
    {
     "data": {
      "image/png": "[encoded data removed]",
      "text/plain": [
       "<Figure size 800x800 with 1 Axes>"
      ]
     },
     "metadata": {},
     "output_type": "display_data"
    }
   ],
   "source": [
    "#Write your code here\n",
    "fig9, ax9 = plt.subplots(figsize=(8,8))\n",
    "# Plot the scatterplot with axes (ax9) and assign the returned object(path collection) to q9\n",
    "top_50_market_cap = df.nlargest(50, 'Market_Capital')\n",
    "sns.scatterplot(x='Price', y='Market_Capital', data=top_50_market_cap, ax=ax9)\n",
    "ax9.set_xlabel('Price')\n",
    "ax9.set_ylabel('Market_Capital')\n",
    "ax9.set_title('Scatter plot between Price and Market Capital')\n",
    "\n",
    "q9 = plt.gcf()\n",
    "\n",
    "\n",
    "#Assigning the object to A9 for validation\n",
    "A9=q9"
   ]
  },
  {
   "cell_type": "markdown",
   "id": "318b76c5",
   "metadata": {},
   "source": [
    "## Question 10"
   ]
  },
  {
   "cell_type": "markdown",
   "id": "ddccd201",
   "metadata": {},
   "source": [
    "### Draw the barplot containing Top 10 currency names with Change(24h) in descending order And Assign to A10 variable."
   ]
  },
  {
   "cell_type": "markdown",
   "id": "29f23fb2",
   "metadata": {},
   "source": [
    "**Instructions:**\n",
    "- Use Seaborn\n",
    "- xlabel,ylabel,title must be present\n",
    "- Plot the barplot"
   ]
  },
  {
   "cell_type": "markdown",
   "id": "958e7ab9",
   "metadata": {},
   "source": [
    "**Sample Plot image:**\n",
    "<img src='Sample_images/pic10.png' style='width:400px;height:300px'>"
   ]
  },
  {
   "cell_type": "code",
   "execution_count": 15,
   "id": "3f0b8856",
   "metadata": {},
   "outputs": [
    {
     "data": {
      "image/png": "[encoded data removed]",
      "text/plain": [
       "<Figure size 800x800 with 1 Axes>"
      ]
     },
     "metadata": {},
     "output_type": "display_data"
    }
   ],
   "source": [
    "#Write your code here\n",
    "fig10, ax10 = plt.subplots(figsize=(8,8))\n",
    "top_10_change = df.nlargest(10, 'Change(24h)')\n",
    "sns.barplot(x='Change(24h)', y='Currency_Name', data=top_10_change, ax=ax10, orient='h')\n",
    "ax10.set_xlabel('Change(24h)')\n",
    "ax10.set_ylabel('Currency_Name')\n",
    "ax10.set_title('Barplot containing Top 10 Currency names with Change(24h)')\n",
    "# Plot the barplot with axes (ax10) and assign the returned object(path collection) to q10\n",
    "q10 = plt.gcf()\n",
    "\n",
    "#Assigning the object,axes to A10 for validation\n",
    "A10=[ax10,ax10]"
   ]
  },
  {
   "cell_type": "markdown",
   "id": "b2d181b9",
   "metadata": {},
   "source": [
    "## Run the below cells to save your output files"
   ]
  },
  {
   "cell_type": "code",
   "execution_count": 16,
   "id": "603cb3a8",
   "metadata": {},
   "outputs": [],
   "source": [
    "import pickle\n",
    "import hashlib\n",
    "\n",
    "def save_output(Top100_List, obj):\n",
    "    with open(Top100_List,'wb')as f:\n",
    "        pickle.dump(obj,f,pickle.HIGHEST_PROTOCOL)   \n",
    "\n",
    "def hashit(obj):\n",
    "        obj = str(obj).encode()\n",
    "        m = hashlib.md5()\n",
    "        m.update(bytes(obj))\n",
    "        return m.hexdigest()\n",
    "\n",
    "##Saving outputs\n",
    "\n",
    "save_output(\"A1.pckl\", A1)\n",
    "save_output(\"A2.pckl\", A2)\n",
    "save_output(\"A3.pckl\", A3)\n",
    "save_output(\"A4.pckl\", A4)\n",
    "save_output(\"A5.pckl\", A5)\n",
    "save_output(\"A6.pckl\", ax)\n",
    "save_output(\"A7.pckl\", A7)\n",
    "save_output(\"A8.pckl\", ax8)\n",
    "save_output(\"A9.pckl\", A9)\n",
    "save_output(\"A10.pckl\", A10)\n",
    "\n"
   ]
  },
  {
   "cell_type": "code",
   "execution_count": 17,
   "id": "101a8f30-04b7-4b18-bc66-317b82138817",
   "metadata": {},
   "outputs": [
    {
     "data": {
      "text/plain": [
       "[Text(0, 0, 'Sprouts'),\n",
       " Text(0, 1, 'Mooncoin'),\n",
       " Text(0, 2, 'Compcoin'),\n",
       " Text(0, 3, 'Metaverse ETP'),\n",
       " Text(0, 4, 'Neblio'),\n",
       " Text(0, 5, 'Zcash'),\n",
       " Text(0, 6, 'ZCoin'),\n",
       " Text(0, 7, 'GXShares'),\n",
       " Text(0, 8, 'Namecoin'),\n",
       " Text(0, 9, 'NEO')]"
      ]
     },
     "execution_count": 17,
     "metadata": {},
     "output_type": "execute_result"
    }
   ],
   "source": [
    "[i for i in ax10.get_yticklabels()]"
   ]
  },
  {
   "cell_type": "code",
   "execution_count": 57,
   "id": "ef6315ac-ffdc-4fcb-89de-4af34cc0b2dd",
   "metadata": {},
   "outputs": [
    {
     "data": {
      "text/plain": [
       "0.8"
      ]
     },
     "execution_count": 57,
     "metadata": {},
     "output_type": "execute_result"
    }
   ],
   "source": [
    "ax10.patches[0].get_height()"
   ]
  },
  {
   "cell_type": "code",
   "execution_count": 18,
   "id": "f90ea7a7",
   "metadata": {},
   "outputs": [],
   "source": [
    "def get_pickle(Top100_List):\n",
    "    with open(Top100_List,'rb')as f:\n",
    "        while True:\n",
    "            try:\n",
    "                obj = pickle.load(f)\n",
    "                return obj\n",
    "            except EOFError:\n",
    "                print('Done')\n",
    "                break\n",
    "def hashit(obj):\n",
    "        obj = str(obj).encode()\n",
    "        print(bytes(obj))\n",
    "        m = hashlib.md5()\n",
    "        m.update(bytes(obj))\n",
    "        return m.hexdigest()"
   ]
  },
  {
   "cell_type": "code",
   "execution_count": 19,
   "id": "46d7cc2c",
   "metadata": {},
   "outputs": [],
   "source": [
    "A12 = get_pickle('A1.pckl')"
   ]
  },
  {
   "cell_type": "code",
   "execution_count": 20,
   "id": "3acbeb64",
   "metadata": {},
   "outputs": [
    {
     "data": {
      "text/plain": [
       "[3631.72, 264.44, 410.47]"
      ]
     },
     "execution_count": 20,
     "metadata": {},
     "output_type": "execute_result"
    }
   ],
   "source": [
    "A12['Price']"
   ]
  },
  {
   "cell_type": "code",
   "execution_count": 21,
   "id": "90669e71-61c6-4f94-950f-b3689ce81dda",
   "metadata": {},
   "outputs": [
    {
     "name": "stdout",
     "output_type": "stream",
     "text": [
      "b'[3631.72, 264.44, 410.47]'\n"
     ]
    },
    {
     "data": {
      "text/plain": [
       "'b1c57f0b5bda67a5f698027c9b664912'"
      ]
     },
     "execution_count": 21,
     "metadata": {},
     "output_type": "execute_result"
    }
   ],
   "source": [
    "hashit(A12['Price'])"
   ]
  }
 ],
 "metadata": {
  "kernelspec": {
   "display_name": "Python 3 (ipykernel)",
   "language": "python",
   "name": "python3"
  },
  "language_info": {
   "codemirror_mode": {
    "name": "ipython",
    "version": 3
   },
   "file_extension": ".py",
   "mimetype": "text/x-python",
   "name": "python",
   "nbconvert_exporter": "python",
   "pygments_lexer": "ipython3",
   "version": "3.11.2"
  }
 },
 "nbformat": 4,
 "nbformat_minor": 5
}
