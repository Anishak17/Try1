{
 "cells": [
  {
   "cell_type": "code",
   "execution_count": 2,
   "metadata": {},
   "outputs": [],
   "source": [
    "import matplotlib.pyplot as plt\n",
    "import numpy as np"
   ]
  },
  {
   "cell_type": "code",
   "execution_count": 5,
   "metadata": {},
   "outputs": [
    {
     "name": "stdout",
     "output_type": "stream",
     "text": [
      "True\n"
     ]
    }
   ],
   "source": [
    "result = 1 < 5 <= 9\n",
    "print(result)"
   ]
  },
  {
   "cell_type": "code",
   "execution_count": 8,
   "metadata": {},
   "outputs": [
    {
     "data": {
      "text/plain": [
       "10"
      ]
     },
     "execution_count": 8,
     "metadata": {},
     "output_type": "execute_result"
    }
   ],
   "source": [
    "y = 9\n",
    "x = 10 if y == 9 else 20\n",
    "x"
   ]
  },
  {
   "cell_type": "code",
   "execution_count": 9,
   "metadata": {},
   "outputs": [
    {
     "name": "stdout",
     "output_type": "stream",
     "text": [
      "0\n",
      "1\n",
      "2\n",
      "3\n"
     ]
    }
   ],
   "source": [
    "def small(a, b, c):\n",
    "\treturn a if a <= b and a <= c else (b if b <= a and b <= c else c)\n",
    "\t\n",
    "print(small(1, 0, 1))\n",
    "print(small(1, 2, 2))\n",
    "print(small(2, 2, 3))\n",
    "print(small(5, 4, 3))\n",
    "\n",
    "#Output\n",
    "#0 #1 #2 #3"
   ]
  },
  {
   "cell_type": "code",
   "execution_count": null,
   "metadata": {},
   "outputs": [
    {
     "data": {
      "text/plain": [
       "2"
      ]
     },
     "metadata": {},
     "output_type": "display_data"
    }
   ],
   "source": [
    "1 and 2"
   ]
  },
  {
   "cell_type": "code",
   "execution_count": null,
   "metadata": {},
   "outputs": [
    {
     "data": {
      "text/plain": [
       "0"
      ]
     },
     "metadata": {},
     "output_type": "display_data"
    }
   ],
   "source": [
    "1 & 2"
   ]
  },
  {
   "cell_type": "code",
   "execution_count": null,
   "metadata": {},
   "outputs": [
    {
     "name": "stdout",
     "output_type": "stream",
     "text": [
      "select * from multi_row where row_id < 5\n"
     ]
    }
   ],
   "source": [
    "multiStr = \"select * from multi_row \\\n",
    "where row_id < 5\"\n",
    "print(multiStr)\n",
    "\n",
    "# select * from multi_row where row_id < 5"
   ]
  },
  {
   "cell_type": "code",
   "execution_count": null,
   "metadata": {},
   "outputs": [
    {
     "name": "stdout",
     "output_type": "stream",
     "text": [
      "select * from multi_row where row_id < 5 order by age\n"
     ]
    }
   ],
   "source": [
    "multiStr= (\"select * from multi_row \"\n",
    "\"where row_id < 5 \"\n",
    "\"order by age\") \n",
    "print(multiStr)\n",
    "\n",
    "#select * from multi_row where row_id < 5 order by age"
   ]
  },
  {
   "cell_type": "code",
   "execution_count": null,
   "metadata": {},
   "outputs": [
    {
     "name": "stdout",
     "output_type": "stream",
     "text": [
      "select * from multi_row \n",
      "where row_id < 5\n"
     ]
    }
   ],
   "source": [
    "multiStr = \"\"\"select * from multi_row \n",
    "where row_id < 5\"\"\"\n",
    "print(multiStr)\n",
    "\n",
    "#select * from multi_row \n",
    "#where row_id < 5"
   ]
  },
  {
   "cell_type": "code",
   "execution_count": null,
   "metadata": {},
   "outputs": [
    {
     "name": "stdout",
     "output_type": "stream",
     "text": [
      "1 2 3\n"
     ]
    }
   ],
   "source": [
    "testList = [1,2,3]\n",
    "x, y, z = testList\n",
    "\n",
    "print(x, y, z)\n",
    "\n",
    "#-> 1 2 3"
   ]
  },
  {
   "attachments": {},
   "cell_type": "markdown",
   "metadata": {},
   "source": [
    "### Note- To be tested in a Python command terminal\n",
    "\n",
    ">>> 2 + 1\n",
    "\n",
    "3\n",
    "\n",
    ">>> _\n",
    "\n",
    "3\n",
    "\n",
    ">>> print _\n",
    "\n",
    "3"
   ]
  },
  {
   "cell_type": "code",
   "execution_count": 11,
   "metadata": {},
   "outputs": [
    {
     "name": "stdout",
     "output_type": "stream",
     "text": [
      "#1  <class 'set'> {0, 2, 4, 6, 8, 10, 12, 14, 16, 18}\n",
      "#2  <class 'dict'> {0: 0, 1: 1, 2: 4, 3: 9, 4: 16, 5: 25, 6: 36, 7: 49, 8: 64, 9: 81}\n"
     ]
    }
   ],
   "source": [
    "testSet = {i * 2 for i in range(10)}\n",
    "testDict = {i: i * i for i in range(10)} \n",
    "\n",
    "print(\"#1 \", type(testSet), testSet)\n",
    "print(\"#2 \", type(testDict), testDict)\n",
    "\n",
    "#1  <class 'set'> {0, 2, 4, 6, 8, 10, 12, 14, 16, 18}\n",
    "#2  <class 'dict'> {0: 0, 1: 1, 2: 4, 3: 9, 4: 16, 5: 25, 6: 36, 7: 49, 8: 64, 9: 81}"
   ]
  },
  {
   "cell_type": "code",
   "execution_count": 10,
   "metadata": {},
   "outputs": [
    {
     "name": "stdout",
     "output_type": "stream",
     "text": [
      "<module 'threading' from 'c:\\\\Program Files\\\\Python311\\\\Lib\\\\threading.py'>\n",
      "<module 'socket' from 'c:\\\\Program Files\\\\Python311\\\\Lib\\\\socket.py'>\n"
     ]
    }
   ],
   "source": [
    "import threading \n",
    "import socket\n",
    "\n",
    "print(threading)\n",
    "print(socket)\n",
    "\n",
    "#1 <module 'threading' from '/usr/local/lib/python3.10/threading.py'>\n",
    "#2 <module 'socket' from '/usr/local/lib/python3.10/socket.py'>"
   ]
  },
  {
   "cell_type": "code",
   "execution_count": 13,
   "metadata": {},
   "outputs": [
    {
     "name": "stdout",
     "output_type": "stream",
     "text": [
      "x y z\n",
      "1 2 3\n",
      "10 20 30\n"
     ]
    }
   ],
   "source": [
    "def test(x, y, z):\n",
    "\tprint(x, y, z)\n",
    "\n",
    "testDict = {'x': 1, 'y': 2, 'z': 3} \n",
    "testList = [10, 20, 30]\n",
    "\n",
    "test(*testDict)\n",
    "test(**testDict)\n",
    "test(*testList)\n",
    "\n",
    "#1-> x y z\n",
    "#2-> 1 2 3\n",
    "#3-> 10 20 30"
   ]
  },
  {
   "cell_type": "code",
   "execution_count": 15,
   "metadata": {},
   "outputs": [
    {
     "name": "stdout",
     "output_type": "stream",
     "text": [
      "12\n",
      "6\n"
     ]
    }
   ],
   "source": [
    "stdcalc = {\n",
    "\t'sum': lambda x, y: x + y,\n",
    "\t'subtract': lambda x, y: x - y\n",
    "}\n",
    "\n",
    "print(stdcalc['sum'](9,3))\n",
    "print(stdcalc['subtract'](9,3))\n",
    "\n",
    "#1-> 12\n",
    "#2-> 6"
   ]
  },
  {
   "cell_type": "code",
   "execution_count": 17,
   "metadata": {},
   "outputs": [
    {
     "data": {
      "text/plain": [
       "6"
      ]
     },
     "execution_count": 17,
     "metadata": {},
     "output_type": "execute_result"
    }
   ],
   "source": [
    "from functools import reduce\n",
    "(lambda k: reduce(int.__mul__, range(1,k+1),1))(3)"
   ]
  },
  {
   "cell_type": "code",
   "execution_count": 18,
   "metadata": {},
   "outputs": [
    {
     "name": "stdout",
     "output_type": "stream",
     "text": [
      "4\n"
     ]
    }
   ],
   "source": [
    "test = [1,2,3,4,2,2,3,1,4,4,4]\n",
    "print(max(set(test), key=test.count))"
   ]
  },
  {
   "cell_type": "code",
   "execution_count": 24,
   "metadata": {},
   "outputs": [
    {
     "name": "stdout",
     "output_type": "stream",
     "text": [
      "28\n"
     ]
    }
   ],
   "source": [
    "import sys\n",
    "x=1\n",
    "print(sys.getsizeof(x))\n",
    "\n",
    "#-> 28"
   ]
  },
  {
   "cell_type": "code",
   "execution_count": 25,
   "metadata": {},
   "outputs": [
    {
     "name": "stdout",
     "output_type": "stream",
     "text": [
      "python tips 1000 1001"
     ]
    },
    {
     "data": {
      "text/plain": [
       "21"
      ]
     },
     "execution_count": 25,
     "metadata": {},
     "output_type": "execute_result"
    }
   ],
   "source": [
    "import sys\n",
    "lprint=lambda *args:sys.stdout.write(\" \".join(map(str,args)))\n",
    "lprint(\"python\", \"tips\",1000,1001)\n",
    "\n",
    "#-> python tips 1000 1001"
   ]
  },
  {
   "cell_type": "code",
   "execution_count": 26,
   "metadata": {},
   "outputs": [
    {
     "name": "stdout",
     "output_type": "stream",
     "text": [
      "{1: 10, 2: 20, 3: 30}\n"
     ]
    }
   ],
   "source": [
    "t1 = (1, 2, 3)\n",
    "t2 = (10, 20, 30)\n",
    "\n",
    "print(dict (zip(t1,t2)))\n",
    "\n",
    "#-> {1: 10, 2: 20, 3: 30}"
   ]
  },
  {
   "cell_type": "code",
   "execution_count": 27,
   "metadata": {},
   "outputs": [
    {
     "name": "stdout",
     "output_type": "stream",
     "text": [
      "True\n",
      "True\n"
     ]
    }
   ],
   "source": [
    "print(\"http://www.google.com\".startswith((\"http://\", \"https://\")))\n",
    "print(\"http://www.google.co.uk\".endswith((\".com\", \".co.uk\")))\n",
    "\n",
    "#1-> True\n",
    "#2-> True"
   ]
  },
  {
   "cell_type": "code",
   "execution_count": 28,
   "metadata": {},
   "outputs": [
    {
     "name": "stdout",
     "output_type": "stream",
     "text": [
      "[-1, -2, 30, 40, 25, 35]\n"
     ]
    }
   ],
   "source": [
    "import itertools\n",
    "test = [[-1, -2], [30, 40], [25, 35]]\n",
    "print(list(itertools.chain.from_iterable(test)))\n",
    "\n",
    "#-> [-1, -2, 30, 40, 25, 35]"
   ]
  },
  {
   "cell_type": "code",
   "execution_count": 31,
   "metadata": {},
   "outputs": [
    {
     "name": "stdout",
     "output_type": "stream",
     "text": [
      "[-1, -2, 1, 2, 3, 4, 5, 6, 7, 30, 40, 25, 35]\n"
     ]
    }
   ],
   "source": [
    "import more_itertools\n",
    "\n",
    "test = [[-1, -2], [1, 2, 3, [4, (5, [6, 7])]], (30, 40), [25, 35]]\n",
    "\n",
    "print(list(more_itertools.collapse(test)))\n",
    "\n",
    "#Output=> [-1, -2, 1, 2, 3, 4, 5, 6, 7, 30, 40, 25, 35]"
   ]
  },
  {
   "cell_type": "code",
   "execution_count": 32,
   "metadata": {},
   "outputs": [
    {
     "name": "stdout",
     "output_type": "stream",
     "text": [
      "None\n",
      "2\n"
     ]
    }
   ],
   "source": [
    "def xswitch(x): \n",
    "\treturn xswitch._system_dict.get(x, None) \n",
    "\n",
    "xswitch._system_dict = {'files': 10, 'folders': 5, 'devices': 2}\n",
    "\n",
    "print(xswitch('default'))\n",
    "print(xswitch('devices'))\n",
    "\n",
    "#1-> None\n",
    "#2-> 2"
   ]
  },
  {
   "cell_type": "code",
   "execution_count": 33,
   "metadata": {},
   "outputs": [
    {
     "data": {
      "text/plain": [
       "[-1, -2, 1, 2, 3, 4, 5, 6, 7, 30, 40, 25, 35]"
      ]
     },
     "execution_count": 33,
     "metadata": {},
     "output_type": "execute_result"
    }
   ],
   "source": [
    "import regex as re\n",
    "test = [[-1, -2], [1, 2, 3, [4, (5, [6, 7])]], (30, 40), [25, 35]]\n",
    "\n",
    "test = [int(i) for i in re.findall('\\-?[\\d]+', str(test))]\n",
    "test"
   ]
  },
  {
   "cell_type": "code",
   "execution_count": 34,
   "metadata": {},
   "outputs": [
    {
     "name": "stdout",
     "output_type": "stream",
     "text": [
      "[-1, -2, 30, 40, 25, 35]\n"
     ]
    }
   ],
   "source": [
    "test = [[-1, -2], [30, 40], [25, 35]]\n",
    "print(sum(test,[]))"
   ]
  },
  {
   "cell_type": "code",
   "execution_count": 41,
   "metadata": {},
   "outputs": [
    {
     "name": "stdout",
     "output_type": "stream",
     "text": [
      "{'a': 1, 'b': 3, 'c': 4} <class 'dict'>\n",
      "{'a', 'b', 'c'} <class 'set'>\n"
     ]
    }
   ],
   "source": [
    "x = {'a':1,'b':2}\n",
    "y = {'b':3,'c':4}\n",
    "\n",
    "z = {**x,**y}\n",
    "print(z,type(z))\n",
    "\n",
    "z = {*x,*y}\n",
    "print(z,type(z))"
   ]
  },
  {
   "cell_type": "code",
   "execution_count": 49,
   "metadata": {},
   "outputs": [
    {
     "name": "stdout",
     "output_type": "stream",
     "text": [
      "[1, 0, 2, 0, 1, 1, 2, 0, 0, 2, 2, 2, 2, 2, 0]\n",
      "2\n"
     ]
    }
   ],
   "source": [
    "x= list(np.random.randint(0, 3, size=15))\n",
    "print(x)\n",
    "print(max(set(x),key=x.count))"
   ]
  },
  {
   "cell_type": "code",
   "execution_count": 52,
   "metadata": {},
   "outputs": [
    {
     "name": "stdout",
     "output_type": "stream",
     "text": [
      "[(2, 7), (0, 5), (1, 3)]\n"
     ]
    }
   ],
   "source": [
    "from collections import Counter\n",
    "cnt = Counter(x)\n",
    "print(cnt.most_common())"
   ]
  },
  {
   "cell_type": "code",
   "execution_count": 53,
   "metadata": {},
   "outputs": [
    {
     "name": "stdout",
     "output_type": "stream",
     "text": [
      "[('a', 'c', 'e'), ('b', 'd', 'f')]\n"
     ]
    }
   ],
   "source": [
    "orig = [['a','b'],['c','d'],['e','f']]\n",
    "print(list(zip(*orig)))"
   ]
  },
  {
   "cell_type": "code",
   "execution_count": 54,
   "metadata": {},
   "outputs": [
    {
     "name": "stdout",
     "output_type": "stream",
     "text": [
      "False\n"
     ]
    }
   ],
   "source": [
    "b = 6\n",
    "print(1 == b < 20)"
   ]
  },
  {
   "cell_type": "code",
   "execution_count": 57,
   "metadata": {},
   "outputs": [
    {
     "name": "stdout",
     "output_type": "stream",
     "text": [
      "15\n"
     ]
    }
   ],
   "source": [
    "def pro(a,b):\n",
    "    return a*b\n",
    "def summ(a,b):\n",
    "    return a+b\n",
    "b = True\n",
    "print((pro if b else summ)(5,3))"
   ]
  },
  {
   "cell_type": "code",
   "execution_count": 60,
   "metadata": {},
   "outputs": [
    {
     "name": "stdout",
     "output_type": "stream",
     "text": [
      "[10, 1, 2, 3, 4] [10, 1, 2, 3, 4]\n"
     ]
    }
   ],
   "source": [
    "a = list(range(5))\n",
    "b = a\n",
    "b[0] = 10\n",
    "\n",
    "print(a,b) # both changes"
   ]
  },
  {
   "cell_type": "code",
   "execution_count": 61,
   "metadata": {},
   "outputs": [
    {
     "name": "stdout",
     "output_type": "stream",
     "text": [
      "[0, 1, 2, 3, 4] [10, 1, 2, 3, 4]\n"
     ]
    }
   ],
   "source": [
    "a = list(range(5))\n",
    "b = a[:]\n",
    "b[0] = 10\n",
    "print(a,b) # only b changes"
   ]
  },
  {
   "cell_type": "code",
   "execution_count": 63,
   "metadata": {},
   "outputs": [
    {
     "name": "stdout",
     "output_type": "stream",
     "text": [
      "[[1, 2], [3, 4]]\n",
      "[[1, 2], [3, 4]]\n"
     ]
    }
   ],
   "source": [
    "from copy import deepcopy\n",
    "l =[[1,2],[3,4]]\n",
    "print(l.copy())\n",
    "print(deepcopy(l))"
   ]
  },
  {
   "cell_type": "code",
   "execution_count": 70,
   "metadata": {},
   "outputs": [
    {
     "name": "stdout",
     "output_type": "stream",
     "text": [
      "10\n"
     ]
    }
   ],
   "source": [
    "d = {'a':1,\"b\":2,\"c\":3}\n",
    "print(d.get(\"d\", 10)) # returns default value if not in list"
   ]
  },
  {
   "cell_type": "code",
   "execution_count": 74,
   "metadata": {},
   "outputs": [
    {
     "name": "stdout",
     "output_type": "stream",
     "text": [
      "[('apple', 10), ('banana', 5), ('orange', 20), ('tomato', 1)]\n",
      "[('tomato', 1), ('banana', 5), ('apple', 10), ('orange', 20)]\n"
     ]
    }
   ],
   "source": [
    "d = {'apple':10,'orange':20,'banana':5,'tomato':1}\n",
    "print(sorted(d.items(),key = lambda x:x[0])) # sort by keys\n",
    "\n",
    "print(sorted(d.items(),key = lambda x:x[1])) # sort by values"
   ]
  },
  {
   "cell_type": "code",
   "execution_count": 75,
   "metadata": {},
   "outputs": [
    {
     "name": "stdout",
     "output_type": "stream",
     "text": [
      "2, hello, a, 7.5\n"
     ]
    }
   ],
   "source": [
    "data =[2,'hello','a',7.5]\n",
    "print(', '.join(map(str,data)))"
   ]
  },
  {
   "cell_type": "code",
   "execution_count": 83,
   "metadata": {},
   "outputs": [
    {
     "name": "stdout",
     "output_type": "stream",
     "text": [
      "{'a': 1, 'b': 2}\n",
      "{'a': 1, 'b': 2}\n",
      "{'a': 1, 'b': 2}\n"
     ]
    }
   ],
   "source": [
    "d1 = dict(a=1)\n",
    "d2 = dict(b=2)\n",
    "\n",
    "print({**d1,**d2})\n",
    "print(dict(d1.items())|dict(d2.items()))\n",
    "\n",
    "d1.update(d2)\n",
    "print(d1)"
   ]
  },
  {
   "cell_type": "code",
   "execution_count": null,
   "metadata": {},
   "outputs": [],
   "source": []
  }
 ],
 "metadata": {
  "kernelspec": {
   "display_name": "Python 3",
   "language": "python",
   "name": "python3"
  },
  "language_info": {
   "codemirror_mode": {
    "name": "ipython",
    "version": 3
   },
   "file_extension": ".py",
   "mimetype": "text/x-python",
   "name": "python",
   "nbconvert_exporter": "python",
   "pygments_lexer": "ipython3",
   "version": "3.11.2"
  },
  "orig_nbformat": 4
 },
 "nbformat": 4,
 "nbformat_minor": 2
}
