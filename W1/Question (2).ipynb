{
 "cells": [
  {
   "cell_type": "markdown",
   "id": "1f97c4a7",
   "metadata": {},
   "source": [
    "# Mini Project on EDA and Visualization"
   ]
  },
  {
   "cell_type": "markdown",
   "id": "dc779410",
   "metadata": {},
   "source": [
    "Welcome to the Use Case Challenge, In this Scenario,You are supposed to perform a EDA and Visualization on Top100 list of Cryptocurrencies dataset."
   ]
  },
  {
   "cell_type": "markdown",
   "id": "69ccbb50",
   "metadata": {},
   "source": [
    "**Instructions:**\n",
    "- Add Extra cells for coding if neccessary.\n",
    "- Finally restart kernel and run all the cells after the completion of the challenge."
   ]
  },
  {
   "cell_type": "markdown",
   "id": "ce9a7bd1",
   "metadata": {},
   "source": [
    "### Run the below cell to import the dataset file and the basic neccessary packages"
   ]
  },
  {
   "cell_type": "markdown",
   "id": "e4037a24",
   "metadata": {},
   "source": [
    "**Note:** These are the essential packages required to complete this task, please select appropriate modules from the packages listed below to complete the task depending on the specified situations."
   ]
  },
  {
   "cell_type": "code",
   "execution_count": 1,
   "id": "09440026",
   "metadata": {},
   "outputs": [
    {
     "name": "stdout",
     "output_type": "stream",
     "text": [
      "--2023-05-18 09:20:54--  https://hr-projects-assets-prod.s3.amazonaws.com/ct7fl6bona6/b1093f2c1c57d266329c1cce18ee34ad/Data.csv\n",
      "Resolving hr-projects-assets-prod.s3.amazonaws.com (hr-projects-assets-prod.s3.amazonaws.com)... 54.231.197.25, 52.217.202.57, 52.216.211.129, ...\n",
      "Connecting to hr-projects-assets-prod.s3.amazonaws.com (hr-projects-assets-prod.s3.amazonaws.com)|54.231.197.25|:443... connected.\n",
      "HTTP request sent, awaiting response... 200 OK\n",
      "Length: 6102 (6.0K) [binary/octet-stream]\n",
      "Saving to: ‘Data.csv’\n",
      "\n",
      "Data.csv            100%[===================>]   5.96K  --.-KB/s    in 0s      \n",
      "\n",
      "2023-05-18 09:20:55 (91.7 MB/s) - ‘Data.csv’ saved [6102/6102]\n",
      "\n"
     ]
    }
   ],
   "source": [
    "!wget https://hr-projects-assets-prod.s3.amazonaws.com/ct7fl6bona6/b1093f2c1c57d266329c1cce18ee34ad/Data.csv"
   ]
  },
  {
   "cell_type": "code",
   "execution_count": 2,
   "id": "fab10eaa",
   "metadata": {},
   "outputs": [],
   "source": [
    "import pandas as pd\n",
    "import numpy as np\n",
    "import matplotlib.pyplot as plt\n",
    "import seaborn as sns"
   ]
  },
  {
   "cell_type": "markdown",
   "id": "677cda3b",
   "metadata": {},
   "source": [
    "### Load the Dataset"
   ]
  },
  {
   "cell_type": "markdown",
   "id": "f4efc1e1",
   "metadata": {},
   "source": [
    "**Note:**\n",
    "- Read the dataset only from the Data.csv file and save it in the variable df.\n",
    "- Don't use other data files like Data.csv.1, Data.csv.2, Data.csv.3,.....etc"
   ]
  },
  {
   "cell_type": "code",
   "execution_count": 3,
   "id": "5fdd0e41",
   "metadata": {},
   "outputs": [],
   "source": [
    "#Write your code here\n",
    "df =pd.read_csv(\"Data.csv\")"
   ]
  },
  {
   "cell_type": "markdown",
   "id": "25653628",
   "metadata": {},
   "source": [
    "## Question 1"
   ]
  },
  {
   "cell_type": "markdown",
   "id": "8ae6e807",
   "metadata": {},
   "source": [
    "### Extract the first 3 rows of your dataframe then convert it into dictionary with the column names as the key values and their values as list into a dictionary then assign to A1 variable."
   ]
  },
  {
   "cell_type": "markdown",
   "id": "3a3b5a9b",
   "metadata": {},
   "source": [
    "\n",
    "**Note:** The output must be in the following format\n",
    "\n",
    "        {Column_Name : List}\n",
    "        \n",
    "**Example**\n",
    "\n",
    "        { 'S.no' : [1,2,3,4],\n",
    "          'Name' : ['GridCoin','Golos','BlackCion','Groestlcoin']\n",
    "           ........}\n",
    "           "
   ]
  },
  {
   "cell_type": "code",
   "execution_count": 4,
   "id": "bde7339c",
   "metadata": {},
   "outputs": [],
   "source": [
    "#Write your code here\n",
    "A1 = df.head(3).to_dict(orient='list')"
   ]
  },
  {
   "cell_type": "code",
   "execution_count": 5,
   "id": "523d21c4-5eda-443e-bcb5-3a85211d17f8",
   "metadata": {},
   "outputs": [
    {
     "data": {
      "text/plain": [
       "{'Rank': [1, 2, 3],\n",
       " 'Currency_Name': ['Bitcoin', 'Ethereum', 'Bitcoin Cash'],\n",
       " 'Market_Capital': [60219183594.0, 25061275598.0, 6815417939.0],\n",
       " 'Price': [3631.72, 264.44, 410.47],\n",
       " 'Circulating_Supply': [16581450.0, 94772198.0, 16603775.0],\n",
       " 'Volume(24h)': [1226800000.0, 462576000.0, 260857000.0],\n",
       " 'Change(24h)': [-0.0084, 0.0132, -0.0322]}"
      ]
     },
     "execution_count": 5,
     "metadata": {},
     "output_type": "execute_result"
    }
   ],
   "source": [
    "A1"
   ]
  },
  {
   "cell_type": "markdown",
   "id": "3ee50551",
   "metadata": {},
   "source": [
    "## Question 2"
   ]
  },
  {
   "cell_type": "markdown",
   "id": "a76fed88",
   "metadata": {},
   "source": [
    "### Return the Curreny_Name which has highest value in Price column and assign to A2 varaible."
   ]
  },
  {
   "cell_type": "markdown",
   "id": "6c3a4c16",
   "metadata": {},
   "source": [
    "**Note:** The Output must be String\n"
   ]
  },
  {
   "cell_type": "code",
   "execution_count": 6,
   "id": "e6773e2b",
   "metadata": {},
   "outputs": [],
   "source": [
    "#Write your code here\n",
    "A2=df['Currency_Name'][df['Price'].idxmax()]"
   ]
  },
  {
   "cell_type": "markdown",
   "id": "0a594ee1",
   "metadata": {},
   "source": [
    "## Question 3"
   ]
  },
  {
   "cell_type": "markdown",
   "id": "8149344a",
   "metadata": {},
   "source": [
    "### Return the mean value of the Change(24h) column and assign to A3 variable."
   ]
  },
  {
   "cell_type": "markdown",
   "id": "982fa15f",
   "metadata": {},
   "source": [
    "**Note:** The Output must be Float value"
   ]
  },
  {
   "cell_type": "code",
   "execution_count": 7,
   "id": "6812a661",
   "metadata": {},
   "outputs": [],
   "source": [
    "#Write your code here\n",
    "A3=df['Change(24h)'].mean()"
   ]
  },
  {
   "cell_type": "markdown",
   "id": "ac797cf6",
   "metadata": {},
   "source": [
    "## Question 4"
   ]
  },
  {
   "cell_type": "markdown",
   "id": "e7b76d22",
   "metadata": {},
   "source": [
    "### Return the sorted (Ascending order) list of currency names which are having Market_Capital greater than '2000000000'  and Price greater than or equal to '200'. Assign to A4 variable.\n"
   ]
  },
  {
   "cell_type": "markdown",
   "id": "47c0fec6",
   "metadata": {},
   "source": [
    "**Note:** The Output must be list"
   ]
  },
  {
   "cell_type": "code",
   "execution_count": 8,
   "id": "4f0124c9",
   "metadata": {},
   "outputs": [],
   "source": [
    "#Write your code here\n",
    "A4=df['Currency_Name'][(df['Market_Capital'] > 2000000000) & (df['Price'] >= 200)].sort_values().tolist()"
   ]
  },
  {
   "cell_type": "markdown",
   "id": "485f4edf",
   "metadata": {},
   "source": [
    "## Question 5"
   ]
  },
  {
   "cell_type": "markdown",
   "id": "7c7b0ea6",
   "metadata": {},
   "source": [
    "### Return the lowest value in Volume(24h) column and Assign to A5 variable."
   ]
  },
  {
   "cell_type": "markdown",
   "id": "b813db1e",
   "metadata": {},
   "source": [
    "**Note:** Output must be Float value."
   ]
  },
  {
   "cell_type": "code",
   "execution_count": 9,
   "id": "14b5e715",
   "metadata": {},
   "outputs": [],
   "source": [
    "#Write your code here\n",
    "A5=df['Volume(24h)'].min()"
   ]
  },
  {
   "cell_type": "markdown",
   "id": "32bd1e52",
   "metadata": {},
   "source": [
    "## Question 6"
   ]
  },
  {
   "cell_type": "markdown",
   "id": "690d51e0",
   "metadata": {},
   "source": [
    "### Draw the Heatmap with correlation between Rank, Marcket Captial, Price, Circulating_Supply, Volume(24h) and Change(24h). Assign to A6 variable."
   ]
  },
  {
   "cell_type": "markdown",
   "id": "8df164f1",
   "metadata": {},
   "source": [
    "**Instructions:**\n",
    "- Use seaborn\n",
    "- Create a figure with figsize(15,8)\n",
    "- xlabel,ylabel,title must be present\n",
    "- Plot the heatmap"
   ]
  },
  {
   "cell_type": "markdown",
   "id": "5b644a11",
   "metadata": {},
   "source": [
    "**Sample Plot image:**\n",
    "<img src='Sample_images/pic6.png' style='width:400px;height:300px'>"
   ]
  },
  {
   "cell_type": "code",
   "execution_count": 13,
   "id": "59527755",
   "metadata": {},
   "outputs": [
    {
     "data": {
      "image/png": "[encoded data removed]",
      "text/plain": [
       "<Figure size 800x800 with 2 Axes>"
      ]
     },
     "metadata": {},
     "output_type": "display_data"
    }
   ],
   "source": [
    "#Write your code here\n",
    "fig, ax = plt.subplots(figsize=(8,8))\n",
    "corr = df[['Rank', 'Market_Capital', 'Price', 'Circulating_Supply', 'Volume(24h)', 'Change(24h)']].corr()\n",
    "sns.heatmap(corr, annot=True, ax=ax)\n",
    "ax.set_xlabel('X-axis')\n",
    "ax.set_ylabel('Y-axis')\n",
    "ax.set_title('Heatmap Correlation')\n",
    "# Plot the Heatmap with axes (ax) and assign the returned object(path collection) to q6\n",
    "q6 = plt.gcf()\n",
    "\n",
    "#Assigning the object to A6 for validation\n",
    "A6=q6"
   ]
  },
  {
   "cell_type": "markdown",
   "id": "1e63fc40",
   "metadata": {},
   "source": [
    "## Question 7"
   ]
  },
  {
   "cell_type": "markdown",
   "id": "3dfa70eb",
   "metadata": {},
   "source": [
    "### Draw the barplot containing Top 10 currency names with highest Market Capital And Assign to A7 variable.\n",
    "   "
   ]
  },
  {
   "cell_type": "markdown",
   "id": "a1f05a3a",
   "metadata": {},
   "source": [
    "**Instructions:**\n",
    "- Use Seaborn\n",
    "- Order the cryptocurrencies is must be in Descending order (i.e,bar corresponding to cryptocurrency with highest market value must be on top of bar plot).\n",
    "- xlabel,ylabel,title must be present\n",
    "- Plot the barplot"
   ]
  },
  {
   "cell_type": "markdown",
   "id": "43ae8c01",
   "metadata": {},
   "source": [
    "**Sample Plot image:**\n",
    "<img src='Sample_images/pic7.png' style='width:400px;height:300px'>"
   ]
  },
  {
   "cell_type": "code",
   "execution_count": 16,
   "id": "2390aa6e",
   "metadata": {},
   "outputs": [
    {
     "data": {
      "image/png": "[encoded data removed]",
      "text/plain": [
       "<Figure size 800x800 with 1 Axes>"
      ]
     },
     "metadata": {},
     "output_type": "display_data"
    }
   ],
   "source": [
    "#Write your code here\n",
    "fig7, ax7 = plt.subplots(figsize=(8,8))\n",
    "top_10_market_cap = df.nlargest(10, 'Market_Capital')\n",
    "sns.barplot(x='Market_Capital', y='Currency_Name', data=top_10_market_cap, ax=ax7, orient='h')\n",
    "ax7.set_xlabel('Market_Capital')\n",
    "ax7.set_ylabel('Currency_Name')\n",
    "ax7.set_title('Bitcoin containing Top 10 Currencies names with highest market capital')\n",
    "\n",
    "# Plot the countplot with axes (ax7) and assign the returned object(path collection) to q7\n",
    "\n",
    "q7 = plt.gcf()\n",
    "\n",
    "#Assigning the object,axes to A7 for validation\n",
    "A7=[q7,ax7]"
   ]
  },
  {
   "cell_type": "markdown",
   "id": "d1dd2a48",
   "metadata": {},
   "source": [
    "## Question 8"
   ]
  },
  {
   "cell_type": "markdown",
   "id": "088b5d19",
   "metadata": {},
   "source": [
    "### Draw the violinplot that represents the graph of Change(24h). And Assign the variable to A8."
   ]
  },
  {
   "cell_type": "markdown",
   "id": "23174baa",
   "metadata": {},
   "source": [
    "**Instructions:**\n",
    "- Use seaborn\n",
    "- Change(24h) should be in the y-axis\n",
    "- xlabel,ylabel,title must be present\n",
    "- Plot the violinplot\n"
   ]
  },
  {
   "cell_type": "markdown",
   "id": "b9592d0f",
   "metadata": {},
   "source": [
    "**Sample Plot image:**\n",
    "<img src='Sample_images/pic8.png' style='width:400px;height:300px'>"
   ]
  },
  {
   "cell_type": "code",
   "execution_count": null,
   "id": "9aab5d51",
   "metadata": {},
   "outputs": [],
   "source": [
    "#Write your code here\n",
    "fig8, ax8 = plt.subplots(figsize=(8,8))\n",
    "# Plot the violinplot with axes (ax8) and assign the returned object(path collection) to q8\n",
    "q8 =\n",
    "\n",
    "\n",
    "#Assigning the object to A8 for validation\n",
    "A8=q8\n"
   ]
  },
  {
   "cell_type": "markdown",
   "id": "8118bb29",
   "metadata": {},
   "source": [
    "## Question 9"
   ]
  },
  {
   "cell_type": "markdown",
   "id": "712a3a70",
   "metadata": {},
   "source": [
    "### Draw a scatterplot that represents the relation between Price and Market Capital. And Assign to A9 variable."
   ]
  },
  {
   "cell_type": "markdown",
   "id": "59326d7a",
   "metadata": {},
   "source": [
    "**Instructions:**\n",
    "- use seaborn\n",
    "- Consider data as 50 Cryptocurrencies, with higest Market Value\n",
    "- xlabel,ylabel,title must be present\n",
    "- Plot the Scatterplot"
   ]
  },
  {
   "cell_type": "markdown",
   "id": "41733838",
   "metadata": {},
   "source": [
    "**Sample Plot image:**\n",
    "<img src='Sample_images/pic9.png' style='width:400px;height:300px'>"
   ]
  },
  {
   "cell_type": "code",
   "execution_count": null,
   "id": "3ec38a9e",
   "metadata": {},
   "outputs": [],
   "source": [
    "#Write your code here\n",
    "fig9, ax9 = plt.subplots(figsize=(8,8))\n",
    "# Plot the scatterplot with axes (ax9) and assign the returned object(path collection) to q9\n",
    "\n",
    "\n",
    "q9 = \n",
    "\n",
    "\n",
    "#Assigning the object to A9 for validation\n",
    "A9=q9"
   ]
  },
  {
   "cell_type": "markdown",
   "id": "318b76c5",
   "metadata": {},
   "source": [
    "## Question 10"
   ]
  },
  {
   "cell_type": "markdown",
   "id": "ddccd201",
   "metadata": {},
   "source": [
    "### Draw the barplot containing Top 10 currency names with Change(24h) in descending order And Assign to A10 variable."
   ]
  },
  {
   "cell_type": "markdown",
   "id": "29f23fb2",
   "metadata": {},
   "source": [
    "**Instructions:**\n",
    "- Use Seaborn\n",
    "- xlabel,ylabel,title must be present\n",
    "- Plot the barplot"
   ]
  },
  {
   "cell_type": "markdown",
   "id": "958e7ab9",
   "metadata": {},
   "source": [
    "**Sample Plot image:**\n",
    "<img src='Sample_images/pic10.png' style='width:400px;height:300px'>"
   ]
  },
  {
   "cell_type": "code",
   "execution_count": null,
   "id": "3f0b8856",
   "metadata": {},
   "outputs": [],
   "source": [
    "#Write your code here\n",
    "fig10, ax10 = plt.subplots(figsize=(8,8))\n",
    "\n",
    "# Plot the barplot with axes (ax10) and assign the returned object(path collection) to q10\n",
    "q10 =\n",
    "\n",
    "#Assigning the object,axes to A10 for validation\n",
    "A10=[q10,ax10]"
   ]
  },
  {
   "cell_type": "markdown",
   "id": "b2d181b9",
   "metadata": {},
   "source": [
    "## Run the below cells to save your output files"
   ]
  },
  {
   "cell_type": "code",
   "execution_count": null,
   "id": "603cb3a8",
   "metadata": {},
   "outputs": [],
   "source": [
    "import pickle\n",
    "import hashlib\n",
    "\n",
    "def save_output(Top100_List, obj):\n",
    "    with open(Top100_List,'wb')as f:\n",
    "        pickle.dump(obj,f,pickle.HIGHEST_PROTOCOL)   \n",
    "\n",
    "def hashit(obj):\n",
    "        obj = str(obj).encode()\n",
    "        m = hashlib.md5()\n",
    "        m.update(bytes(obj))\n",
    "        return m.hexdigest()\n",
    "\n",
    "##Saving outputs\n",
    "\n",
    "save_output(\"A1.pckl\", A1)\n",
    "save_output(\"A2.pckl\", A2)\n",
    "save_output(\"A3.pckl\", A3)\n",
    "save_output(\"A4.pckl\", A4)\n",
    "save_output(\"A5.pckl\", A5)\n",
    "save_output(\"A6.pckl\", A6)\n",
    "save_output(\"A7.pckl\", A7)\n",
    "save_output(\"A8.pckl\", A8)\n",
    "save_output(\"A9.pckl\", A9)\n",
    "save_output(\"A10.pckl\", A10)\n",
    "\n"
   ]
  },
  {
   "cell_type": "code",
   "execution_count": null,
   "id": "f90ea7a7",
   "metadata": {},
   "outputs": [],
   "source": []
  },
  {
   "cell_type": "code",
   "execution_count": null,
   "id": "46d7cc2c",
   "metadata": {},
   "outputs": [],
   "source": []
  },
  {
   "cell_type": "code",
   "execution_count": null,
   "id": "3acbeb64",
   "metadata": {},
   "outputs": [],
   "source": []
  }
 ],
 "metadata": {
  "kernelspec": {
   "display_name": "Python 3 (ipykernel)",
   "language": "python",
   "name": "python3"
  },
  "language_info": {
   "codemirror_mode": {
    "name": "ipython",
    "version": 3
   },
   "file_extension": ".py",
   "mimetype": "text/x-python",
   "name": "python",
   "nbconvert_exporter": "python",
   "pygments_lexer": "ipython3",
   "version": "3.7.8"
  }
 },
 "nbformat": 4,
 "nbformat_minor": 5
}
